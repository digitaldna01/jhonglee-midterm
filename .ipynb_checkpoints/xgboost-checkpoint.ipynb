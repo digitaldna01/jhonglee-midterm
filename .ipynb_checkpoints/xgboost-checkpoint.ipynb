{
 "cells": [
  {
   "cell_type": "markdown",
   "metadata": {},
   "source": [
    "# Libraries"
   ]
  },
  {
   "cell_type": "code",
   "execution_count": 7,
   "metadata": {},
   "outputs": [],
   "source": [
    "import pickle\n",
    "import pandas as pd\n",
    "from os.path import exists\n",
    "import matplotlib.pyplot as plt\n",
    "from sklearn.model_selection import train_test_split"
   ]
  },
  {
   "cell_type": "markdown",
   "metadata": {},
   "source": [
    "# Loading the Files\n",
    "\n",
    "Download the csv files into the `data/` directory."
   ]
  },
  {
   "cell_type": "markdown",
   "metadata": {},
   "source": [
    "## train.csv\n",
    "\n",
    "1,697,533 unique reviews from Amazon Movie Reviews, with their associated star ratings and metadata. \n",
    "It is not necessary to use all reviews, or metadata for training. Some reviews will be missing a value in the 'Score' column. \n",
    "That is because, these are the scores you want to predict.\n",
    "\n",
    "## test.csv\n",
    "\n",
    "Contains a table with 212,192 unique reviews. \n",
    "\n",
    "The format of the table has two columns; \n",
    "- 'Id': contains an id that corresponds to a review in train.csv for which you predict a score \n",
    "- 'Score': the values for this column are missing since it will include the score predictions. \n",
    "- \n",
    "You are required to predict the star ratings of these Id using the metadata in train.csv.\n",
    "\n",
    "## sample.csv \n",
    "\n",
    "a sample submission file. The 'Id' field is populated with values from test.csv. \n",
    "Kaggle will only evaluate submission files in this exact same format."
   ]
  },
  {
   "cell_type": "code",
   "execution_count": 3,
   "metadata": {},
   "outputs": [
    {
     "name": "stdout",
     "output_type": "stream",
     "text": [
      "train.csv shape is  (1697533, 9)\n",
      "test.csv shape is  (212192, 2)\n",
      "\n",
      "        Id   ProductId          UserId  HelpfulnessNumerator  \\\n",
      "0   914403  B0009W5KHM   AV6QDP8Q0ONK4                     2   \n",
      "1   354887  6303079709  A2I8RXJN80A2D2                     0   \n",
      "2  1407653  B004H0M2XC  A3FHV3RV8Z12E6                     0   \n",
      "3  1377458  B003ZJ9536  A12VLTA3ZHVPUY                     1   \n",
      "4   475323  630574453X  A13NM1PES9OXVN                     2   \n",
      "\n",
      "   HelpfulnessDenominator        Time  \\\n",
      "0                       2  1341014400   \n",
      "1                       0  1168819200   \n",
      "2                       0  1386201600   \n",
      "3                       1  1348704000   \n",
      "4                       3   970012800   \n",
      "\n",
      "                                         Summary  \\\n",
      "0                                  GOOD FUN FILM   \n",
      "1                                   Movie Review   \n",
      "2             When is it a good time to Consent?   \n",
      "3                                          TRUTH   \n",
      "4  Intelligent and bittersweet -- stays with you   \n",
      "\n",
      "                                                Text  Score  \n",
      "0  While most straight to DVD films are not worth...    5.0  \n",
      "1  I have wanted this one for sometime, also.  I ...    5.0  \n",
      "2  Actually this was a pretty darn good indie fil...    4.0  \n",
      "3  Episodes 37 to 72 of the series press on in a ...    5.0  \n",
      "4  I was really impressed with this movie, but wa...    3.0  \n",
      "\n",
      "        Id  Score\n",
      "0  1323432    NaN\n",
      "1  1137299    NaN\n",
      "2  1459366    NaN\n",
      "3   931601    NaN\n",
      "4  1311995    NaN\n",
      "\n",
      "                 Id  HelpfulnessNumerator  HelpfulnessDenominator  \\\n",
      "count  1.697533e+06          1.697533e+06            1.697533e+06   \n",
      "mean   8.487660e+05          3.569048e+00            5.301422e+00   \n",
      "std    4.900357e+05          1.727883e+01            2.024445e+01   \n",
      "min    0.000000e+00          0.000000e+00            0.000000e+00   \n",
      "25%    4.243830e+05          0.000000e+00            0.000000e+00   \n",
      "50%    8.487660e+05          1.000000e+00            1.000000e+00   \n",
      "75%    1.273149e+06          3.000000e+00            5.000000e+00   \n",
      "max    1.697532e+06          6.084000e+03            6.510000e+03   \n",
      "\n",
      "               Time         Score  \n",
      "count  1.697533e+06  1.485341e+06  \n",
      "mean   1.262422e+09  4.110517e+00  \n",
      "std    1.289277e+08  1.197651e+00  \n",
      "min    8.793792e+08  1.000000e+00  \n",
      "25%    1.164413e+09  4.000000e+00  \n",
      "50%    1.307491e+09  5.000000e+00  \n",
      "75%    1.373242e+09  5.000000e+00  \n",
      "max    1.406074e+09  5.000000e+00  \n",
      "\n"
     ]
    },
    {
     "data": {
      "image/png": "[encoded data removed]",
      "text/plain": [
       "<Figure size 640x480 with 1 Axes>"
      ]
     },
     "metadata": {},
     "output_type": "display_data"
    },
    {
     "name": "stdout",
     "output_type": "stream",
     "text": [
      "\n",
      "EVERYTHING IS PROPERLY SET UP! YOU ARE READY TO START\n"
     ]
    }
   ],
   "source": [
    "trainingSet = pd.read_csv(\"./data/train.csv\") # Training Set\n",
    "testingSet = pd.read_csv(\"./data/test.csv\") # Testing Set\n",
    "\n",
    "print(\"train.csv shape is \", trainingSet.shape) # Training Set Shape\n",
    "print(\"test.csv shape is \", testingSet.shape) # Testing Set Shape   \n",
    "\n",
    "print() # New Line\n",
    "\n",
    "print(trainingSet.head()) # Training Set Head   \n",
    "print() # New Line\n",
    "print(testingSet.head()) # Testing Set Head \n",
    "\n",
    "print() # New Line  \n",
    "\n",
    "print(trainingSet.describe()) # Training Set Describe       \n",
    "\n",
    "print() # New Line\n",
    "\n",
    "trainingSet['Score'].value_counts().plot(kind='bar', legend=True, alpha=.5) # Training Set Score Value Counts Plot\n",
    "plt.show() # Show the Plot\n",
    "\n",
    "print() # New Line\n",
    "print(\"EVERYTHING IS PROPERLY SET UP! YOU ARE READY TO START\") # Print Statement"
   ]
  },
  {
   "cell_type": "markdown",
   "metadata": {},
   "source": [
    "### Data fields:\n",
    "\n",
    "- ProductId - unique identifier for the product\n",
    "- UserId - unique identifier for the user\n",
    "- HelpfulnessNumerator - number of users who found the review helpful\n",
    "- HelpfulnessDenominator - number of users who indicated whether they found the review helpful\n",
    "- Score - rating between 1 and 5\n",
    "- Time - timestamp for the review\n",
    "- Summary - brief summary of the review\n",
    "- Text - text of the review\n",
    "- Id - a unique identifier associated with a review\n",
    "\n",
    "Note: Some of the rows of the table may have some of these values missing."
   ]
  },
  {
   "cell_type": "markdown",
   "metadata": {},
   "source": [
    "-ProductId - unique identifier for the product - duplicate 몇개 있는지 \n",
    "-UserId - unique identifier for the user"
   ]
  },
  {
   "cell_type": "markdown",
   "metadata": {},
   "source": [
    "# Preprocessing"
   ]
  },
  {
   "cell_type": "markdown",
   "metadata": {},
   "source": [
    "-ProductId - unique identifier for the product - Check for duplicates\n",
    "-UserId - unique identifier for the user - Check for duplicates"
   ]
  },
  {
   "cell_type": "markdown",
   "metadata": {},
   "source": [
    "# Adding Features"
   ]
  },
  {
   "cell_type": "code",
   "execution_count": 8,
   "metadata": {},
   "outputs": [],
   "source": [
    "def add_features_to(df):\n",
    "    # This is where you can do all your feature extraction\n",
    "\n",
    "    df['Helpfulness'] = df['HelpfulnessNumerator'] / df['HelpfulnessDenominator'] # Helpfulness Feature\n",
    "    df['Helpfulness'] = df['Helpfulness'].fillna(0)\n",
    "    df.drop(columns=['HelpfulnessNumerator', 'HelpfulnessDenominator'], inplace=True)\n",
    "\n",
    "    return df\n",
    "\n",
    "# Load the feature extracted files if they've already been generated\n",
    "if exists('./data/X_train.csv'):\n",
    "    X_train = pd.read_csv(\"./data/X_train.csv\")\n",
    "if exists('./data/X_submission.csv'):\n",
    "    X_submission = pd.read_csv(\"./data/X_submission.csv\")\n",
    "\n",
    "else:\n",
    "    # Process the DataFrame\n",
    "    train = add_features_to(trainingSet)\n",
    "\n",
    "    # Merge on Id so that the submission set can have feature columns as well\n",
    "    X_submission = pd.merge(train, testingSet, left_on='Id', right_on='Id')\n",
    "    X_submission = X_submission.drop(columns=['Score_x'])\n",
    "    X_submission = X_submission.rename(columns={'Score_y': 'Score'})\n",
    "\n",
    "    # The training set is where the score is not null\n",
    "    X_train =  train[train['Score'].notnull()]\n",
    "\n",
    "    X_submission.to_csv(\"./data/X_submission.csv\", index=False)\n",
    "    X_train.to_csv(\"./data/X_train.csv\", index=False)"
   ]
  },
  {
   "cell_type": "code",
   "execution_count": 3,
   "metadata": {},
   "outputs": [
    {
     "name": "stdout",
     "output_type": "stream",
     "text": [
      "        Id   ProductId          UserId        Time  \\\n",
      "0   914403  B0009W5KHM   AV6QDP8Q0ONK4  1341014400   \n",
      "1   354887  6303079709  A2I8RXJN80A2D2  1168819200   \n",
      "2  1407653  B004H0M2XC  A3FHV3RV8Z12E6  1386201600   \n",
      "3  1377458  B003ZJ9536  A12VLTA3ZHVPUY  1348704000   \n",
      "4   475323  630574453X  A13NM1PES9OXVN   970012800   \n",
      "\n",
      "                                         Summary  \\\n",
      "0                                  GOOD FUN FILM   \n",
      "1                                   Movie Review   \n",
      "2             When is it a good time to Consent?   \n",
      "3                                          TRUTH   \n",
      "4  Intelligent and bittersweet -- stays with you   \n",
      "\n",
      "                                                Text  Score  Helpfulness  \n",
      "0  While most straight to DVD films are not worth...    5.0     1.000000  \n",
      "1  I have wanted this one for sometime, also.  I ...    5.0     0.000000  \n",
      "2  Actually this was a pretty darn good indie fil...    4.0     0.000000  \n",
      "3  Episodes 37 to 72 of the series press on in a ...    5.0     1.000000  \n",
      "4  I was really impressed with this movie, but wa...    3.0     0.666667  \n"
     ]
    }
   ],
   "source": [
    "print(X_train.head())"
   ]
  },
  {
   "cell_type": "code",
   "execution_count": 6,
   "metadata": {},
   "outputs": [
    {
     "name": "stdout",
     "output_type": "stream",
     "text": [
      "212192\n",
      "1485341\n"
     ]
    }
   ],
   "source": [
    "print(len(X_submission))\n",
    "print(len(X_train))"
   ]
  },
  {
   "cell_type": "markdown",
   "metadata": {},
   "source": [
    "# Sample + Split into training and testing set"
   ]
  },
  {
   "cell_type": "code",
   "execution_count": 9,
   "metadata": {},
   "outputs": [
    {
     "name": "stdout",
     "output_type": "stream",
     "text": [
      "X_train shape is  (1114005, 7)\n",
      "X_test shape is  (371336, 7)\n",
      "Y_train shape is  (1114005,)\n",
      "Y_test shape is  (371336,)\n"
     ]
    }
   ],
   "source": [
    "# Split Training Set into Training and Testing Set\n",
    "X_train, X_test, Y_train, Y_test = train_test_split(\n",
    "    X_train.drop(columns=['Score']),\n",
    "    X_train['Score'],\n",
    "    test_size=1/4.0,\n",
    "    random_state=0\n",
    ")\n",
    "\n",
    "print(\"X_train shape is \", X_train.shape) # X_train Shape\n",
    "print(\"X_test shape is \", X_test.shape) # X_test Shape\n",
    "print(\"Y_train shape is \", Y_train.shape) # Y_train Shape\n",
    "print(\"Y_test shape is \", Y_test.shape) # Y_test Shape"
   ]
  },
  {
   "cell_type": "markdown",
   "metadata": {},
   "source": [
    "# Feature Selection"
   ]
  },
  {
   "cell_type": "code",
   "execution_count": 5,
   "metadata": {},
   "outputs": [
    {
     "name": "stdout",
     "output_type": "stream",
     "text": [
      "              Id   ProductId          UserId        Time  \\\n",
      "131283    430123  6304628153  A1KD93LN4BHUT3  1120608000   \n",
      "1202017   839984  B0002M5U6A   A3PXY2C0L3KLK  1343088000   \n",
      "511808    320579  6302561868   AV1KYJXHOWPMD  1155600000   \n",
      "955172   1600915  B009OCR1OI  A14SX0UQVZ9IU0  1374451200   \n",
      "735507   1326832  B0035Q636Q  A2ZD0ZCU166Z1J  1356566400   \n",
      "\n",
      "                                                   Summary  \\\n",
      "131283   Excellent WWII-Era Retelling of The Scarlet Pi...   \n",
      "1202017                                   Forgettable camp   \n",
      "511808                                            Skip it.   \n",
      "955172                \"Dense, voyeuristic and tangible...\"   \n",
      "735507                                  Classic Quad Set 2   \n",
      "\n",
      "                                                      Text  Helpfulness  \n",
      "131283   A&E; used to show this old movie every so ofte...         1.00  \n",
      "1202017  Not as good as Rankin/Bass other specials. The...         1.00  \n",
      "511808   Aliens was the perfect conclusion, but this ru...         0.60  \n",
      "955172   American screenwriter, producer and director C...         0.75  \n",
      "735507   I bought two of these sets, one for me and one...         0.00  \n"
     ]
    }
   ],
   "source": [
    "print(X_train.head())"
   ]
  },
  {
   "cell_type": "code",
   "execution_count": 10,
   "metadata": {},
   "outputs": [
    {
     "name": "stderr",
     "output_type": "stream",
     "text": [
      "[nltk_data] Downloading package punkt to /Users/jaylee/nltk_data...\n",
      "[nltk_data]   Package punkt is already up-to-date!\n",
      "[nltk_data] Downloading package wordnet to /Users/jaylee/nltk_data...\n",
      "[nltk_data]   Package wordnet is already up-to-date!\n",
      "[nltk_data] Downloading package stopwords to\n",
      "[nltk_data]     /Users/jaylee/nltk_data...\n",
      "[nltk_data]   Package stopwords is already up-to-date!\n",
      "[nltk_data] Downloading package vader_lexicon to\n",
      "[nltk_data]     /Users/jaylee/nltk_data...\n",
      "[nltk_data]   Package vader_lexicon is already up-to-date!\n"
     ]
    },
    {
     "name": "stdout",
     "output_type": "stream",
     "text": [
      "GloVe embeddings loading...\n",
      "GloVe Embeddings Loading Complete\n",
      "Preprocessing text...\n",
      "Preprocessing sentiment...\n",
      "Preprocessing length...\n",
      "Preprocessing complete\n",
      "Preprocessing text...\n",
      "Preprocessing sentiment...\n",
      "Preprocessing length...\n",
      "Preprocessing complete\n",
      "Preprocessing text...\n",
      "Preprocessing sentiment...\n",
      "Preprocessing length...\n",
      "Preprocessing complete\n"
     ]
    }
   ],
   "source": [
    "import re\n",
    "from nltk.corpus import stopwords\n",
    "from nltk.tokenize import word_tokenize\n",
    "from nltk.stem import WordNetLemmatizer\n",
    "from nltk.sentiment.vader import SentimentIntensityAnalyzer\n",
    "import numpy as np\n",
    "import nltk\n",
    "\n",
    "# import nltk\n",
    "nltk.download('punkt')\n",
    "nltk.download('wordnet')\n",
    "nltk.download('stopwords')\n",
    "nltk.download('vader_lexicon')\n",
    "\n",
    "stopwords = set(stopwords.words('english'))\n",
    "lemmatizer = WordNetLemmatizer()\n",
    "analyzer = SentimentIntensityAnalyzer()\n",
    "\n",
    "def load_glove_embeddings(file_path):\n",
    "    print(\"GloVe embeddings loading...\")\n",
    "    embeddings = {}\n",
    "    with open(file_path, 'r', encoding='utf-8') as f:\n",
    "        for line in f:\n",
    "            values = line.split()\n",
    "            word = values[0]\n",
    "            vector = np.array(values[1:], dtype='float32')\n",
    "            embeddings[word] = vector\n",
    "    print(\"GloVe Embeddings Loading Complete\")\n",
    "    return embeddings\n",
    "\n",
    "# GloVe Embeddings\n",
    "glove_path = 'glove.6B/glove.6B.300d.txt'\n",
    "glove_embeddings = load_glove_embeddings(glove_path)\n",
    "\n",
    "# text preprocessing\n",
    "def preprocess_words(text):\n",
    "    if isinstance(text, float):\n",
    "        text = str(text)\n",
    "    text = text.lower()\n",
    "    text = re.sub(r'[^\\w\\s]', '', text)\n",
    "    words = word_tokenize(text)\n",
    "    words = [lemmatizer.lemmatize(word) for word in words if word not in stopwords]\n",
    "    return words\n",
    "\n",
    "# sentence vector\n",
    "def get_sentence_vector(sentence, model):\n",
    "    words = preprocess_words(sentence)\n",
    "    vectors = [model.get(word) for word in words if word in model]\n",
    "    return np.mean(vectors, axis=0) if vectors else np.zeros(300)\n",
    "\n",
    "# Vader Sentiment\n",
    "def get_sentiment_score(sentence):\n",
    "    if isinstance(sentence, float):\n",
    "        sentence = str(sentence)\n",
    "    return analyzer.polarity_scores(sentence)['compound']\n",
    "\n",
    "def preprocess_dataframe(df, text_column, summary_column, model):\n",
    "    print(\"Preprocessing text...\")\n",
    "    df['combined_text'] = df[text_column].fillna('') + \" \" + df[summary_column].fillna('')\n",
    "    df['sentence_vector'] = df['combined_text'].apply(lambda x: get_sentence_vector(x, model))\n",
    "    \n",
    "    # Vader Sentiment\n",
    "    print(\"Preprocessing sentiment...\")\n",
    "    df['text_sentiment'] = df[text_column].apply(get_sentiment_score)\n",
    "    df['summary_sentiment'] = df[summary_column].apply(get_sentiment_score)\n",
    "    \n",
    "    # Length\n",
    "    print(\"Preprocessing length...\")\n",
    "    df['text_length'] = df[text_column].fillna('').apply(len)\n",
    "    df['summary_length'] = df[summary_column].fillna('').apply(len)\n",
    "    \n",
    "    # Drop the original text and summary columns\n",
    "    df = df.drop(columns=[text_column, summary_column, 'combined_text'])\n",
    "    print(\"Preprocessing complete\")\n",
    "    return df\n",
    "\n",
    "# preprocessing\n",
    "X_train = preprocess_dataframe(X_train, 'Text', 'Summary', glove_embeddings)\n",
    "X_test = preprocess_dataframe(X_test, 'Text', 'Summary', glove_embeddings)\n",
    "X_submission = preprocess_dataframe(X_submission, 'Text', 'Summary', glove_embeddings)\n",
    "\n",
    "X_train.drop(columns=['ProductId', 'UserId'], inplace=True)\n",
    "X_test.drop(columns=['ProductId', 'UserId'], inplace=True)"
   ]
  },
  {
   "cell_type": "code",
   "execution_count": 5,
   "metadata": {},
   "outputs": [
    {
     "name": "stdout",
     "output_type": "stream",
     "text": [
      "<class 'pandas.core.frame.DataFrame'>\n",
      "Index: 1114005 entries, 131283 to 305711\n",
      "Data columns (total 10 columns):\n",
      " #   Column             Non-Null Count    Dtype  \n",
      "---  ------             --------------    -----  \n",
      " 0   Id                 1114005 non-null  int64  \n",
      " 1   ProductId          1114005 non-null  object \n",
      " 2   UserId             1114005 non-null  object \n",
      " 3   Time               1114005 non-null  int64  \n",
      " 4   Helpfulness        1114005 non-null  float64\n",
      " 5   sentence_vector    1114005 non-null  object \n",
      " 6   text_sentiment     1114005 non-null  float64\n",
      " 7   summary_sentiment  1114005 non-null  float64\n",
      " 8   text_length        1114005 non-null  int64  \n",
      " 9   summary_length     1114005 non-null  int64  \n",
      "dtypes: float64(3), int64(4), object(3)\n",
      "memory usage: 93.5+ MB\n",
      "None\n"
     ]
    }
   ],
   "source": [
    "print(X_train.info())"
   ]
  },
  {
   "cell_type": "code",
   "execution_count": 16,
   "metadata": {},
   "outputs": [],
   "source": [
    "from sklearn.preprocessing import StandardScaler\n",
    "\n",
    "numerical_features = ['summary_length', 'text_length', 'text_sentiment', 'summary_sentiment']\n",
    "scaler = StandardScaler()\n",
    "\n",
    "X_train_numerical = scaler.fit_transform(X_train[numerical_features])\n",
    "X_test_numerical = scaler.transform(X_test[numerical_features])\n",
    "X_submission_numerical = scaler.transform(X_submission[numerical_features])"
   ]
  },
  {
   "cell_type": "code",
   "execution_count": 17,
   "metadata": {},
   "outputs": [],
   "source": [
    "import xgboost as xgb\n",
    "\n",
    "# sentence_vector는 별도로 처리\n",
    "X_train_sentence_vector = np.stack(X_train['sentence_vector'].values)\n",
    "X_test_sentence_vector = np.stack(X_test['sentence_vector'].values)\n",
    "X_submission_sentence_vector = np.stack(X_submission['sentence_vector'].values)\n",
    "\n",
    "# 스케일링된 수치형 특성과 sentence_vector를 결합\n",
    "X_train_combined = np.hstack([X_train_numerical, X_train_sentence_vector])\n",
    "X_test_combined = np.hstack([X_test_numerical, X_test_sentence_vector])\n",
    "X_submission_combined = np.hstack([X_submission_numerical, X_submission_sentence_vector])\n"
   ]
  },
  {
   "cell_type": "markdown",
   "metadata": {},
   "source": [
    "# Model Creation"
   ]
  },
  {
   "cell_type": "code",
   "execution_count": 18,
   "metadata": {},
   "outputs": [
    {
     "name": "stdout",
     "output_type": "stream",
     "text": [
      "Accuracy on testing set =  0.5957973371824978\n",
      "Classification Report:                precision    recall  f1-score   support\n",
      "\n",
      "         1.0       0.52      0.46      0.49     22906\n",
      "         2.0       0.38      0.11      0.17     22406\n",
      "         3.0       0.40      0.13      0.19     44171\n",
      "         4.0       0.40      0.22      0.28     83810\n",
      "         5.0       0.65      0.93      0.76    198043\n",
      "\n",
      "    accuracy                           0.60    371336\n",
      "   macro avg       0.47      0.37      0.38    371336\n",
      "weighted avg       0.54      0.60      0.53    371336\n",
      "\n",
      "Confusion Matrix:  [[ 10537   1692   1436   1273   7968]\n",
      " [  4115   2535   3232   3845   8679]\n",
      " [  2334   1509   5627  11628  23073]\n",
      " [  1368    601   2639  18280  60922]\n",
      " [  1820    379   1266  10316 184262]]\n"
     ]
    }
   ],
   "source": [
    "import xgboost as xgb\n",
    "from sklearn.metrics import accuracy_score, classification_report, confusion_matrix, make_scorer\n",
    "from sklearn.preprocessing import LabelEncoder\n",
    "\n",
    "le = LabelEncoder()\n",
    "Y_train_encoded = le.fit_transform(Y_train)\n",
    "\n",
    "# Define XGBoost Model\n",
    "model = xgb.XGBClassifier(\n",
    "    objective='multi:softmax',\n",
    "    booster='gbtree',\n",
    "    num_class=5,\n",
    "    learning_rate=0.1,\n",
    "    max_depth=5,\n",
    "    min_child_weight=4,\n",
    "    n_estimators=100,\n",
    "    gamma=0,\n",
    "    subsample=0.8,\n",
    "    colsample_bytree=0.8,\n",
    "    random_state=42\n",
    ")\n",
    "\n",
    "# Learn the model\n",
    "model.fit(X_train_combined, Y_train_encoded)\n",
    "\n",
    "# Predict the score using the model\n",
    "Y_test_predictions = model.predict(X_test_combined)\n",
    "y_pred = le.inverse_transform(Y_test_predictions)\n",
    "\n",
    "# Model Evaluation\n",
    "print(\"Accuracy on testing set = \", accuracy_score(Y_test, y_pred))\n",
    "print(\"Classification Report: \", classification_report(Y_test, y_pred))\n",
    "print(\"Confusion Matrix: \", confusion_matrix(Y_test, y_pred))\n"
   ]
  },
  {
   "cell_type": "code",
   "execution_count": 41,
   "metadata": {},
   "outputs": [
    {
     "name": "stdout",
     "output_type": "stream",
     "text": [
      "Score 분포:\n",
      "Score\n",
      "1.0     22996\n",
      "2.0     22516\n",
      "3.0     44497\n",
      "4.0     84606\n",
      "5.0    200385\n",
      "Name: count, dtype: int64\n",
      "\n",
      "가장 많이 나타나는 score: 5.0\n",
      "해당 score의 개수: 200385\n",
      "전체 대비 비율: 53.44%\n"
     ]
    },
    {
     "data": {
      "image/png": "[encoded data removed]",
      "text/plain": [
       "<Figure size 1000x600 with 1 Axes>"
      ]
     },
     "metadata": {},
     "output_type": "display_data"
    }
   ],
   "source": [
    "import pandas as pd\n",
    "import matplotlib.pyplot as plt\n",
    "\n",
    "# Y_train value counts\n",
    "value_counts = Y_train.value_counts().sort_index()\n",
    "print(\"Score 분포:\")\n",
    "print(value_counts)\n",
    "\n",
    "# Most common score\n",
    "most_common_score = value_counts.idxmax()\n",
    "most_common_count = value_counts.max()\n",
    "most_common_percentage = (most_common_count / len(Y_train)) * 100\n",
    "\n",
    "print(f\"\\n가장 많이 나타나는 score: {most_common_score}\")\n",
    "print(f\"해당 score의 개수: {most_common_count}\")\n",
    "print(f\"전체 대비 비율: {most_common_percentage:.2f}%\")\n",
    "\n",
    "# Visualization\n",
    "plt.figure(figsize=(10, 6))\n",
    "value_counts.plot(kind='bar')\n",
    "plt.title('Distribution of Scores')\n",
    "plt.xlabel('Score')\n",
    "plt.ylabel('Count')\n",
    "plt.show()\n"
   ]
  },
  {
   "cell_type": "code",
   "execution_count": 19,
   "metadata": {},
   "outputs": [
    {
     "name": "stdout",
     "output_type": "stream",
     "text": [
      "Accuracy: 0.5796\n",
      "\n",
      "Classification Report:\n",
      "              precision    recall  f1-score   support\n",
      "\n",
      "         1.0       0.49      0.52      0.51     22906\n",
      "         2.0       0.38      0.11      0.17     22406\n",
      "         3.0       0.36      0.22      0.27     44171\n",
      "         4.0       0.35      0.47      0.40     83810\n",
      "         5.0       0.76      0.77      0.76    198043\n",
      "\n",
      "    accuracy                           0.58    371336\n",
      "   macro avg       0.47      0.42      0.42    371336\n",
      "weighted avg       0.58      0.58      0.57    371336\n",
      "\n"
     ]
    }
   ],
   "source": [
    "import xgboost as xgb\n",
    "from sklearn.metrics import accuracy_score, classification_report, confusion_matrix, make_scorer\n",
    "from sklearn.preprocessing import LabelEncoder\n",
    "from sklearn.linear_model import LogisticRegression\n",
    "from sklearn.model_selection import GridSearchCV\n",
    "\n",
    "# Binary Classification\n",
    "y_binary = (Y_train == 5.0).astype(int)\n",
    "\n",
    "# Multi Classification for (1.0 ~ 4.0)\n",
    "mask_multi = Y_train != 5.0\n",
    "X_train_multi = X_train_combined[mask_multi]\n",
    "Y_train_multi = Y_train[mask_multi]\n",
    "\n",
    "binary_model = LogisticRegression(random_state=42, max_iter=1000)\n",
    "binary_model.fit(X_train_combined, y_binary)\n",
    "\n",
    "le = LabelEncoder()\n",
    "Y_train_encoded = le.fit_transform(Y_train_multi)\n",
    "\n",
    "multi_model = xgb.XGBClassifier(\n",
    "    objective='multi:softmax',\n",
    "    n_estimators=100,\n",
    "    max_depth=5,\n",
    "    learning_rate=0.1,\n",
    "    gamma=0,\n",
    "    subsample=0.8,\n",
    "    colsample_bytree=0.8,\n",
    "    num_class=4,\n",
    "    enable_categorical=True,\n",
    "    random_state=42)\n",
    "\n",
    "param_grid = {\n",
    "    'n_estimators': [50, 100, 200],\n",
    "    'max_depth': [3, 5, 7],\n",
    "    'learning_rate': [0.01, 0.1, 0.3],\n",
    "    'subsample': [0.8, 1.0],\n",
    "    'colsample_bytree': [0.8, 1.0],\n",
    "    'gamma': [0, 0.1, 0.2]\n",
    "}\n",
    "\n",
    "grid_search = GridSearchCV(\n",
    "    estimator=xgb.XGBClassifier(\n",
    "        objective='multi:softmax',\n",
    "        num_class=4,\n",
    "        enable_categorical=True,\n",
    "        random_state=42\n",
    "    ),\n",
    "    param_grid=param_grid,\n",
    "    cv=5,\n",
    "    scoring='accuracy',\n",
    "    n_jobs=-1,\n",
    "    verbose=2\n",
    ")\n",
    "\n",
    "grid_search.fit(X_train_multi, Y_train_encoded)\n",
    "\n",
    "print(\"Best parameters:\", grid_search.best_params_)\n",
    "print(\"Best cross-validation score:\", grid_search.best_score_)\n",
    "\n",
    "# multi_model.fit(\n",
    "#     X_train_multi, \n",
    "#     Y_train_encoded)\n",
    "\n",
    "\n",
    "\n",
    "def predict_hierarchical(Test_Data):\n",
    "    binary_predictions = binary_model.predict(Test_Data)\n",
    "    multi_predictions = multi_model.predict(Test_Data)\n",
    "    multi_predictions = le.inverse_transform(multi_predictions) \n",
    "    final_pred = np.where(binary_predictions == 1, 5.0, multi_predictions)\n",
    "    return final_pred\n",
    "\n",
    "y_pred = predict_hierarchical(X_test_combined)\n",
    "accuracy = accuracy_score(Y_test, y_pred)\n",
    "print(f\"Accuracy: {accuracy:.4f}\")\n",
    "print(\"\\nClassification Report:\")\n",
    "print(classification_report(Y_test, y_pred))"
   ]
  },
  {
   "cell_type": "code",
   "execution_count": 61,
   "metadata": {},
   "outputs": [],
   "source": [
    "X_submission['Score'] = predict_hierarchical(X_submission_combined)\n",
    "submission = X_submission[['Id', 'Score']]\n",
    "submission.to_csv(\"./data/submission.csv\", index=False)"
   ]
  },
  {
   "cell_type": "code",
   "execution_count": 40,
   "metadata": {},
   "outputs": [],
   "source": [
    "# Create the submission file\n",
    "Y_submission_predictions = model.predict(X_submission_combined)\n",
    "X_submission['Score'] = le.inverse_transform(Y_submission_predictions)\n",
    "submission = X_submission[['Id', 'Score']]\n",
    "submission.to_csv(\"./data/submission.csv\", index=False)"
   ]
  },
  {
   "cell_type": "markdown",
   "metadata": {},
   "source": [
    "# light Gbm\n"
   ]
  },
  {
   "cell_type": "code",
   "execution_count": 26,
   "metadata": {},
   "outputs": [
    {
     "name": "stdout",
     "output_type": "stream",
     "text": [
      "[LightGBM] [Info] Auto-choosing row-wise multi-threading, the overhead of testing was 0.010444 seconds.\n",
      "You can set `force_row_wise=true` to remove the overhead.\n",
      "And if memory is not enough, you can set `force_col_wise=true`.\n",
      "[LightGBM] [Info] Total Bins 4053\n",
      "[LightGBM] [Info] Number of data points in the train set: 375000, number of used features: 17\n",
      "[LightGBM] [Info] Start training from score -2.791606\n",
      "[LightGBM] [Info] Start training from score -2.812700\n",
      "[LightGBM] [Info] Start training from score -2.131504\n",
      "[LightGBM] [Info] Start training from score -1.488921\n",
      "[LightGBM] [Info] Start training from score -0.626686\n",
      "Accuracy: 0.5791\n",
      "\n",
      "Classification Report:\n",
      "              precision    recall  f1-score   support\n",
      "\n",
      "         1.0       0.48      0.53      0.50      7599\n",
      "         2.0       0.31      0.10      0.15      7468\n",
      "         3.0       0.32      0.10      0.16     14881\n",
      "         4.0       0.39      0.19      0.26     28314\n",
      "         5.0       0.63      0.91      0.75     66738\n",
      "\n",
      "    accuracy                           0.58    125000\n",
      "   macro avg       0.43      0.37      0.36    125000\n",
      "weighted avg       0.51      0.58      0.52    125000\n",
      "\n",
      "\n",
      "Confusion Matrix:\n",
      "[[ 3993   511   461   353  2281]\n",
      " [ 1754   724   914   886  3190]\n",
      " [  999   527  1552  3051  8752]\n",
      " [  612   303  1070  5451 20878]\n",
      " [  912   286   808  4060 60672]]\n"
     ]
    }
   ],
   "source": [
    "import xgboost as xgb\n",
    "from lightgbm import LGBMClassifier\n",
    "from sklearn.metrics import accuracy_score, classification_report, confusion_matrix, make_scorer\n",
    "\n",
    "# Label Encoding\n",
    "le = LabelEncoder()\n",
    "Y_train_encoded = le.fit_transform(Y_train)\n",
    "Y_test_encoded = le.transform(Y_test)\n",
    "\n",
    "lgbm  = LGBMClassifier(\n",
    "    objective='multiclass',\n",
    "    boosting_type='gbdt',\n",
    "    num_class=5,\n",
    "    learning_rate=0.1,\n",
    "    max_depth=10,\n",
    "    num_leaves=31,  # LightGBM specific parameter\n",
    "    min_child_samples=20,  # equivalent to min_child_weight in XGBoost\n",
    "    n_estimators=100,\n",
    "    subsample=0.8,\n",
    "    colsample_bytree=0.8,\n",
    "    random_state=42,\n",
    "    n_jobs=-1,  # Use all CPU cores\n",
    "    importance_type='gain'  # For feature importance\n",
    ")\n",
    "\n",
    "lgbm.fit(X_train_selected, Y_train_encoded)\n",
    "\n",
    "Y_test_predictions = lgbm.predict(X_test_selected)\n",
    "y_pred = le.inverse_transform(Y_test_predictions)\n",
    "\n",
    "# Evaluate the model\n",
    "accuracy = accuracy_score(Y_test, y_pred)\n",
    "print(f\"Accuracy: {accuracy:.4f}\")\n",
    "print(\"\\nClassification Report:\")\n",
    "print(classification_report(Y_test, y_pred))\n",
    "print(\"\\nConfusion Matrix:\")\n",
    "print(confusion_matrix(Y_test, y_pred))\n"
   ]
  },
  {
   "cell_type": "markdown",
   "metadata": {},
   "source": [
    "# Parameter Tuning"
   ]
  },
  {
   "cell_type": "code",
   "execution_count": 29,
   "metadata": {},
   "outputs": [
    {
     "name": "stdout",
     "output_type": "stream",
     "text": [
      "Best Parameters:  {'max_depth': 9, 'min_child_weight': 5}\n",
      "Best Score:  0.6270826899736432\n"
     ]
    }
   ],
   "source": [
    "import xgboost as xgb\n",
    "from sklearn.metrics import accuracy_score, classification_report, confusion_matrix, make_scorer\n",
    "from sklearn.preprocessing import LabelEncoder\n",
    "from sklearn.model_selection import GridSearchCV\n",
    "\n",
    "# Label Encoding\n",
    "le = LabelEncoder()\n",
    "Y_train_encoded = le.fit_transform(Y_train)\n",
    "Y_test_encoded = le.transform(Y_test)\n",
    "\n",
    "# Define XGBoost Model\n",
    "model = xgb.XGBClassifier(\n",
    "    objective='multi:softmax',\n",
    "    learning_rate=0.1,\n",
    "    n_estimators=100,\n",
    "    gamma=0,\n",
    "    subsample=0.8,\n",
    "    colsample_bytree=0.8,\n",
    "    num_class=5,\n",
    "    booster='gbtree',\n",
    "    random_state=42\n",
    ")\n",
    "\n",
    "param_test1 = {\n",
    "    'max_depth': range(3, 10, 2),\n",
    "    'min_child_weight': range(1, 6, 2)\n",
    "}\n",
    "\n",
    "grid_search = GridSearchCV(\n",
    "    estimator=model, \n",
    "    param_grid=param_test1,\n",
    "    cv=2,\n",
    "    scoring='accuracy'\n",
    ")\n",
    "\n",
    "grid_search.fit(X_train_combined, Y_train_encoded)\n",
    "\n",
    "print(\"Best Parameters: \", grid_search.best_params_)\n",
    "print(\"Best Score: \", grid_search.best_score_)\n"
   ]
  },
  {
   "cell_type": "code",
   "execution_count": 30,
   "metadata": {},
   "outputs": [
    {
     "name": "stdout",
     "output_type": "stream",
     "text": [
      "Best Parameters:  {'max_depth': 10, 'min_child_weight': 4}\n",
      "Best Score:  0.6287272968838649\n"
     ]
    }
   ],
   "source": [
    "import xgboost as xgb\n",
    "from sklearn.metrics import accuracy_score, classification_report, confusion_matrix, make_scorer\n",
    "from sklearn.preprocessing import LabelEncoder\n",
    "from sklearn.model_selection import GridSearchCV\n",
    "\n",
    "# Label Encoding\n",
    "le = LabelEncoder()\n",
    "Y_train_encoded = le.fit_transform(Y_train)\n",
    "Y_test_encoded = le.transform(Y_test)\n",
    "\n",
    "# Define XGBoost Model\n",
    "model = xgb.XGBClassifier(\n",
    "    objective='multi:softmax',\n",
    "    learning_rate=0.1,\n",
    "    n_estimators=100,\n",
    "    gamma=0,\n",
    "    subsample=0.8,\n",
    "    colsample_bytree=0.8,\n",
    "    num_class=5,\n",
    "    booster='gbtree',\n",
    "    random_state=42\n",
    ")\n",
    "\n",
    "param_test1 = {\n",
    "    'max_depth': [8, 9, 10],\n",
    "    'min_child_weight': [4, 5, 6]\n",
    "}\n",
    "\n",
    "grid_search = GridSearchCV(\n",
    "    estimator=model, \n",
    "    param_grid=param_test1,\n",
    "    cv=2,\n",
    "    scoring='accuracy'\n",
    ")\n",
    "\n",
    "grid_search.fit(X_train_combined, Y_train_encoded)\n",
    "\n",
    "print(\"Best Parameters: \", grid_search.best_params_)\n",
    "print(\"Best Score: \", grid_search.best_score_)\n"
   ]
  },
  {
   "cell_type": "markdown",
   "metadata": {},
   "source": [
    "# SVC"
   ]
  },
  {
   "cell_type": "code",
   "execution_count": 19,
   "metadata": {},
   "outputs": [
    {
     "name": "stdout",
     "output_type": "stream",
     "text": [
      "Training Random Forest...\n",
      "Training SVC...\n"
     ]
    }
   ],
   "source": [
    "from sklearn.svm import SVC\n",
    "from sklearn.ensemble import RandomForestClassifier\n",
    "from sklearn.metrics import accuracy_score, classification_report\n",
    "\n",
    "rf = RandomForestClassifier(n_estimators=100, max_depth=10, random_state=42)\n",
    "svc = SVC(kernel='rbf', C=1, gamma='auto', random_state=42)\n",
    "\n",
    "# Train Random Forest\n",
    "print(\"Training Random Forest...\")\n",
    "rf.fit(X_train_combined, Y_train)\n",
    "\n",
    "# Train SVC\n",
    "print(\"Training SVC...\")\n",
    "svc.fit(X_train_combined, Y_train)\n",
    "\n",
    "# Make predictions\n",
    "rf_predictions = rf.predict(X_test_combined)\n",
    "svc_predictions = svc.predict(X_test_combined)\n",
    "\n",
    "# Evaluate models\n",
    "print(\"Random Forest Accuracy:\", accuracy_score(Y_test, rf_predictions))\n",
    "print(\"SVC Accuracy:\", accuracy_score(Y_test, svc_predictions))\n",
    "\n",
    "print(\"\\nRandom Forest Classification Report:\")\n",
    "print(classification_report(Y_test, rf_predictions))\n",
    "\n",
    "print(\"\\nSVC Classification Report:\")\n",
    "print(classification_report(Y_test, svc_predictions))\n",
    "\n",
    "# Make predictions on the submission set\n",
    "rf_submission_predictions = rf.predict(X_submission_combined)\n",
    "svc_submission_predictions = svc.predict(X_submission_combined)\n",
    "\n",
    "# If you need to save the predictions\n",
    "X_submission['RF_Predictions'] = rf_submission_predictions\n",
    "X_submission['SVC_Predictions'] = svc_submission_predictions"
   ]
  },
  {
   "cell_type": "code",
   "execution_count": 13,
   "metadata": {},
   "outputs": [
    {
     "name": "stdout",
     "output_type": "stream",
     "text": [
      "Fitting the model...\n",
      "Making predictions...\n",
      "Evaluating the model...\n",
      "Accuracy: 0.5507\n",
      "\n",
      "Classification Report:\n",
      "              precision    recall  f1-score   support\n",
      "\n",
      "         1.0       0.47      0.35      0.40      7599\n",
      "         2.0       0.27      0.04      0.08      7468\n",
      "         3.0       0.28      0.07      0.11     14881\n",
      "         4.0       0.32      0.19      0.24     28314\n",
      "         5.0       0.61      0.89      0.72     66738\n",
      "\n",
      "    accuracy                           0.55    125000\n",
      "   macro avg       0.39      0.31      0.31    125000\n",
      "weighted avg       0.48      0.55      0.48    125000\n",
      "\n",
      "Done!\n"
     ]
    }
   ],
   "source": [
    "from sklearn.decomposition import TruncatedSVD\n",
    "from sklearn.pipeline import make_pipeline\n",
    "from sklearn.preprocessing import Normalizer\n",
    "from sklearn.neighbors import KNeighborsClassifier\n",
    "from sklearn.metrics import accuracy_score, classification_report\n",
    "\n",
    "# Create a pipeline\n",
    "svd_knn_pipeline = make_pipeline(\n",
    "    TruncatedSVD(n_components=200, random_state=42),\n",
    "    Normalizer(copy=False),\n",
    "    KNeighborsClassifier(n_neighbors=20)\n",
    ")\n",
    "\n",
    "# Fit the pipeline\n",
    "print(\"Fitting the model...\")\n",
    "svd_knn_pipeline.fit(X_train_combined, Y_train)\n",
    "\n",
    "# Make predictions on the test set\n",
    "print(\"Making predictions...\")\n",
    "Y_test_predictions = svd_knn_pipeline.predict(X_test_combined)\n",
    "\n",
    "# Evaluate the model\n",
    "print(\"Evaluating the model...\")\n",
    "accuracy = accuracy_score(Y_test, Y_test_predictions)\n",
    "print(f\"Accuracy: {accuracy:.4f}\")\n",
    "\n",
    "print(\"\\nClassification Report:\")\n",
    "print(classification_report(Y_test, Y_test_predictions))\n",
    "\n",
    "print(\"Done!\")"
   ]
  },
  {
   "cell_type": "code",
   "execution_count": 20,
   "metadata": {},
   "outputs": [],
   "source": [
    "# Learn the model\n",
    "model = KNeighborsClassifier(n_neighbors=3).fit(X_train_select, Y_train)\n",
    "\n",
    "# Predict the score using the model\n",
    "Y_test_predictions = model.predict(X_test_select)"
   ]
  },
  {
   "cell_type": "markdown",
   "metadata": {},
   "source": [
    "# Model Evaluation"
   ]
  },
  {
   "cell_type": "code",
   "execution_count": 21,
   "metadata": {},
   "outputs": [
    {
     "name": "stdout",
     "output_type": "stream",
     "text": [
      "Accuracy on testing set =  0.40914607435494177\n"
     ]
    },
    {
     "data": {
      "image/png": "[encoded data removed]",
      "text/plain": [
       "<Figure size 640x480 with 2 Axes>"
      ]
     },
     "metadata": {},
     "output_type": "display_data"
    }
   ],
   "source": [
    "# Evaluate your model on the testing set\n",
    "print(\"Accuracy on testing set = \", accuracy_score(Y_test, Y_test_predictions))\n",
    "\n",
    "# Plot a confusion matrix\n",
    "cm = confusion_matrix(Y_test, Y_test_predictions, normalize='true')\n",
    "sns.heatmap(cm, annot=True)\n",
    "plt.title('Confusion matrix of the classifier')\n",
    "plt.xlabel('Predicted')\n",
    "plt.ylabel('True')\n",
    "plt.show()"
   ]
  },
  {
   "cell_type": "markdown",
   "metadata": {},
   "source": [
    "# Create submission file"
   ]
  },
  {
   "cell_type": "code",
   "execution_count": 16,
   "metadata": {},
   "outputs": [],
   "source": [
    "# Create the submission file\n",
    "Y_submission_predictions = model.predict(X_submission_combined)\n",
    "X_submission['Score'] = le.inverse_transform(Y_submission_predictions)\n",
    "submission = X_submission[['Id', 'Score']]\n",
    "submission.to_csv(\"./data/submission.csv\", index=False)"
   ]
  },
  {
   "cell_type": "code",
   "execution_count": 23,
   "metadata": {},
   "outputs": [],
   "source": [
    "# Create the submission file\n",
    "X_submission['Score'] = model.predict(X_submission_select)\n",
    "submission = X_submission[['Id', 'Score']]\n",
    "submission.to_csv(\"./data/submission.csv\", index=False)"
   ]
  }
 ],
 "metadata": {
  "kernelspec": {
   "display_name": "Python 3 (ipykernel)",
   "language": "python",
   "name": "python3"
  },
  "language_info": {
   "codemirror_mode": {
    "name": "ipython",
    "version": 3
   },
   "file_extension": ".py",
   "mimetype": "text/x-python",
   "name": "python",
   "nbconvert_exporter": "python",
   "pygments_lexer": "ipython3",
   "version": "3.12.0"
  }
 },
 "nbformat": 4,
 "nbformat_minor": 4
}
